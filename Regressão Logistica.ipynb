{
 "cells": [
  {
   "cell_type": "markdown",
   "metadata": {},
   "source": [
    "# Regressão Logística \n",
    "--- "
   ]
  },
  {
   "cell_type": "markdown",
   "metadata": {},
   "source": [
    "Como boa parte das técnicas estatísticas, a Regressão Logística foi criada no século XVIII graças a alguns estudos sobre crescimento populacional. Segundo CRAMER (2002), após 40 anos, esse estudo foi reutilizado para a previsão populacional de alguns países Europeus, porém recebeu sua primeira publicação apenas em 1845, através de Pierre-François Verhust. Nessa época, ela foi chamada de curva logística. Logo caracterizou-se por ser capaz de descrever as relações entre uma variável dependente qualitativa binária, em relação ao restante das variáveis. Devido à natureza da Regressão Logística, sua utilidade e campo de aplicação são vastos e permitem aplicação em diversas áreas de estudo. Hoje em dia, percebe-se que há uma preferência sobre esse método no mercado de crédito, pois permite a previsão de pessoas que não pagarão suas pendências, com uma função relativamente simples.  \n",
    "\n",
    " Pois, esse método regressivo ser tornou componente integral de qualquer análise de dados, devido a sua capacidade de descrever a relação entre a variável resposta e uma ou mais viáveis exploratórias. E frequentemente, nossa variável resposta é uma variável discreta, tendo apenas dois ou poucos mais valores. Nas últimas décadas o modelo de Regressão Linear se tornou o padrão para análises desse tipo de situação. (LEMESHOW; HOSMER, 2000)\n",
    " Em suma, analisaremos o comportamento de adimplentes, atribuindo o valor 1 para os inadimplentes, e 0 para os adimplentes. Assim, conseguiremos ver a taxa de maus de forma mais compreensível. "
   ]
  },
  {
   "cell_type": "markdown",
   "metadata": {},
   "source": [
    "$$ \n",
    "Y=\n",
    "  \\begin{cases}\n",
    "    1, & \\text{se o usuario é adimplente} \\newline\n",
    "    0, & \\text{caso contrário.} \n",
    "  \\end{cases}\n",
    "$$ "
   ]
  },
  {
   "cell_type": "markdown",
   "metadata": {},
   "source": [
    "Utilizaremos a fórmula da Regressão Logística Multivariada para responder ao objeto de estudo, pois, apesar de existir a Distribuição Logística Multinominal, estamos interessados apenas na análise de aspecto binário."
   ]
  },
  {
   "cell_type": "markdown",
   "metadata": {},
   "source": [
    "$$g(x)=\\ln{(}\\frac{\\pi\\left(x\\right)}{1-\\pi(x)})=\\beta_0+\\beta_1x_1+\\ldots+\\beta_nx_n$$"
   ]
  },
  {
   "cell_type": "markdown",
   "metadata": {},
   "source": [
    "## Classificação Binaria\n",
    "---"
   ]
  },
  {
   "cell_type": "markdown",
   "metadata": {},
   "source": [
    "\n",
    "![title](https://www.m-files.com/blog/wp-content/uploads/2019/09/structured-vs-unstructured-data.png)\n",
    "\n",
    "\n",
    "Como citado anteriormente, para o objeto de estudo dessa pesquisa, estamos interessados apenas em um classificador de aspecto binario. E para comprender melhor essa formas, devemos compreender também que há duas estruturas que podemos utilizas esse tipo de classificação.\n",
    "- Classificações: \n",
    "    - Estruturas\n",
    "    - Não estruturadas "
   ]
  },
  {
   "cell_type": "markdown",
   "metadata": {},
   "source": [
    "### Dados não estruturados\n",
    "---"
   ]
  },
  {
   "cell_type": "markdown",
   "metadata": {},
   "source": [
    "São base de dados que não contem uma estrutura geral para acessar os dados, pois eles transmitem informações atraves de estruturas aleatorias, como exemplo desse tipo de dado, temos: textos, imagens, audios e videos\n",
    "\n",
    "Geralmente é de interesse utilizar dos classificadores para identificar algo especifico nesse tipo de estrutura de dados, como identificas spams no email, identificar se há ou não um gato em uma imagem e assim por diante, se uma musica é um plagio e assim por diante "
   ]
  },
  {
   "cell_type": "markdown",
   "metadata": {},
   "source": [
    "### Dados estruturados\n",
    "---"
   ]
  },
  {
   "cell_type": "code",
   "execution_count": null,
   "metadata": {},
   "outputs": [],
   "source": []
  }
 ],
 "metadata": {
  "kernelspec": {
   "display_name": "Python 3",
   "language": "python",
   "name": "python3"
  },
  "language_info": {
   "codemirror_mode": {
    "name": "ipython",
    "version": 3
   },
   "file_extension": ".py",
   "mimetype": "text/x-python",
   "name": "python",
   "nbconvert_exporter": "python",
   "pygments_lexer": "ipython3",
   "version": "3.8.3"
  }
 },
 "nbformat": 4,
 "nbformat_minor": 4
}
