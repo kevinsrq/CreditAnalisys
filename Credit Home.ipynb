{
 "cells": [
  {
   "cell_type": "markdown",
   "metadata": {},
   "source": [
    "# Objetivo\n",
    "\n",
    "O objetivo desse estudo é a analise dos dados para verificar as possíveis variaveis que influenciam na comportamento de um usuário ao ele pedir crédito. O principal intuito desse estudo, é tentar reduzir ao máximo a perca de renda ao dar crédito a um possível inadimplente \n",
    "\n",
    "[O fonte dos dados desse estudo se encontram aqui: ](https://www.kaggle.com/c/home-credit-default-risk/data) "
   ]
  },
  {
   "cell_type": "markdown",
   "metadata": {},
   "source": [
    "#### Importação das principais bibliotecas\n",
    "\n",
    "Para inicio, não desejamos uma análise descritiva, portanto lidaremos mais com os dados cru e pouca vizualização para ser localizada as variaveis que influenciam no comportamento do individuo"
   ]
  },
  {
   "cell_type": "code",
   "execution_count": 1,
   "metadata": {},
   "outputs": [],
   "source": [
    "import pandas as pd\n",
    "import numpy as np "
   ]
  },
  {
   "cell_type": "markdown",
   "metadata": {},
   "source": [
    "#### application_{train|test}.csv\n",
    "---\n",
    "\n",
    "This is the main table, broken into two files for Train (with TARGET) and Test (without TARGET).\n",
    "Static data for all applications. One row represents one loan in our data sample.\n",
    "\n",
    "Esta é a tabela principal, dividida em dois arquivos para o **Treino** *(com VARIAVEL RESPOSTA)* e **Teste** *(sem VARIAVEL RESPOSTA)*. \n",
    "\n",
    "Com dados estáticos para todos as aplicações. Cada linha representa um empréstimo em nossa amostra de dados."
   ]
  },
  {
   "cell_type": "code",
   "execution_count": 3,
   "metadata": {},
   "outputs": [],
   "source": [
    "path = 'C:/Users/kevin/Documents/Python/TCC'"
   ]
  },
  {
   "cell_type": "code",
   "execution_count": 4,
   "metadata": {},
   "outputs": [],
   "source": [
    "appl_test_set = pd.read_csv(path+'/Credit Risk/application_test.csv')\n",
    "appl_train_set = pd.read_csv(path+'./Credit Risk/application_train.csv')"
   ]
  },
  {
   "cell_type": "markdown",
   "metadata": {},
   "source": [
    "#### bureau.csv\n",
    "---\n",
    "\n",
    "*All client's previimport credits provided by other financial institutions that were reported to Credit Bureau (for clients who have a loan in our sample).*\n",
    "*For every loan in our sample, there are as many rows as number of credits the client had in Credit Bureau before the application date.*\n",
    "\n",
    "* Todos os créditos anteriores de todos os clientes fornecidos por outras instituições financeiras que foram reportadas ao *Biro de Crédito*  (para clientes que têm um empréstimo em nossa amostra).\n",
    "* Para cada empréstimo em nossa amostra, há a mesma quantidade de linhas dos número de créditos que o cliente tinha no *Biro de Crédito* antes da data da aplicação."
   ]
  },
  {
   "cell_type": "code",
   "execution_count": 5,
   "metadata": {},
   "outputs": [],
   "source": [
    "biro = pd.read_csv(path+'/Credit Risk/bureau.csv')"
   ]
  },
  {
   "cell_type": "markdown",
   "metadata": {},
   "source": [
    "#### bureau_balance.csv\n",
    "\n",
    "*Monthly balances of previous credits in Credit Bureau.*\n",
    "*This table has one row for each month of history of every previous credit reported to Credit Bureau – i.e the table has (#loans in sample * # of relative previous credits * # of months where we have some history observable for the previous credits) rows.*\n",
    "\n",
    "\n",
    "* Saldos mensais de créditos anteriores no Credit Bureau (Biro de Crédito).\n",
    "* Esta tabela tem uma linha para cada mês da história de cada crédito precedente relatado ao departamento de crédito - isto é a tabela tem (#Amostra de empréstimos * de créditos precedentes relativos * # dos meses onde nós temos alguma história observável para os créditos precedentes) linhas."
   ]
  },
  {
   "cell_type": "code",
   "execution_count": 6,
   "metadata": {},
   "outputs": [],
   "source": [
    "biro_saldo = pd.read_csv(path+'/Credit Risk/bureau_balance.csv')"
   ]
  },
  {
   "cell_type": "markdown",
   "metadata": {},
   "source": [
    "#### POS_CASH_balance.csv\n",
    "\n",
    "*Monthly balance snapshots of previous POS (point of sales) and cash loans that the applicant had with Home Credit.\n",
    "This table has one row for each month of history of every previous credit in Home Credit (consumer credit and cash loans) related to loans in our sample – i.e. the table has (#loans in sample * # of relative previous credits * # of months in which we have some history observable for the previous credits) rows.*\n",
    "\n",
    "* Instantâneos mensais do contrapeso do POS precedente (ponto das vendas) e dos empréstimos de dinheiro que o pretendente teve com crédito Home.\n",
    "* Esta tabela tem uma linha para cada mês da história de cada crédito precedente no crédito Home (crédito de consumidor e empréstimos de dinheiro) relativos aos empréstimos em nossa amostra - isto é a tabela tem (#loans na amostra * de créditos precedentes relativos * # dos meses em que nós temos alguma história observável para as fileiras precedentes dos créditos)."
   ]
  },
  {
   "cell_type": "code",
   "execution_count": 7,
   "metadata": {},
   "outputs": [],
   "source": [
    "pos_cash_saldo = pd.read_csv(path+'/Credit Risk/POS_CASH_balance.csv')"
   ]
  },
  {
   "cell_type": "markdown",
   "metadata": {},
   "source": [
    "#### credit_card_balance.csv\n",
    "\n",
    "*Monthly balance snapshots of previous credit cards that the applicant has with Home Credit.\n",
    "This table has one row for each month of history of every previous credit in Home Credit (consumer credit and cash loans) related to loans in our 'sample – i.e. the table has (#loans in sample * # of relative previous credit cards * # of months where we have some history observable for the previous credit card) rows.*\n",
    "\n",
    "* Instantâneos mensais do contrapeso de cartões de crédito precedentes que o pretendente tem com crédito Home.\n",
    "* Esta tabela tem uma linha para cada mês da história de cada crédito precedente no crédito Home (crédito de consumidor e empréstimos de dinheiro) relativos aos empréstimos em nossa amostra - isto é a tabela tem (#loans na amostra * de cartões de crédito precedentes relativos * # dos meses onde nós temos alguma história observável para as fileiras precedentes do cartão de crédito)."
   ]
  },
  {
   "cell_type": "code",
   "execution_count": 8,
   "metadata": {},
   "outputs": [],
   "source": [
    "credito_saldo = pd.read_csv(path+'/Credit Risk/credit_card_balance.csv')"
   ]
  },
  {
   "cell_type": "markdown",
   "metadata": {},
   "source": [
    "#### previous_application.csv\n",
    "\n",
    "*All previous applications for Home Credit loans of clients who have loans in our sample.\n",
    "There is one row for each previous application related to loans in our data sample.*\n",
    "\n",
    "* Todos os pedidos anteriores de empréstimos de crédito à habitação de clientes que têm empréstimos em nossa amostra.\n",
    "* Há uma linha para cada pedido anterior relacionado a empréstimos em nossa amostra de dados."
   ]
  },
  {
   "cell_type": "code",
   "execution_count": 9,
   "metadata": {},
   "outputs": [],
   "source": [
    "#aplic_ant == aplicação anterior\n",
    "aplic_ant = pd.read_csv(path+'/Credit Risk/previous_application.csv')"
   ]
  },
  {
   "cell_type": "markdown",
   "metadata": {},
   "source": [
    "### installments_payments.csv\n",
    "\n",
    "*Repayment history for the previously disbursed credits in Home Credit related to the loans in our sample.\n",
    "There is a) one row for every payment that was made plus b) one row each for missed payment.\n",
    "One row is equivalent to one payment of one installment OR one installment corresponding to one payment of one previous Home Credit credit related to loans in our sample.*\n",
    "\n",
    "* Histórico de reembolso para os créditos anteriormente desembolsados em Crédito À Habitação relacionados com os empréstimos em nossa amostra.\n",
    "* Há a) uma linha para cada pagamento que foi feito mais b) uma linha cada um para o pagamento faltado.\n",
    "* Uma linha é equivalente a um pagamento de uma parcela ou uma parcela correspondente a um pagamento de um crédito home precedente relativo aos empréstimos em nossa amostra."
   ]
  },
  {
   "cell_type": "code",
   "execution_count": 10,
   "metadata": {},
   "outputs": [],
   "source": [
    "#pag_atrasado == pagamento atrasado\n",
    "pag_atrasado = pd.read_csv(path+'/Credit Risk/installments_payments.csv')"
   ]
  },
  {
   "cell_type": "markdown",
   "metadata": {},
   "source": [
    "### HomeCredit_columns_description.csv\n",
    "\n",
    "*This file contains descriptions for the columns in the various data files.*\n",
    "\n",
    "* Este arquivo contém descrições para as colunas nos vários arquivos de dados."
   ]
  },
  {
   "cell_type": "markdown",
   "metadata": {},
   "source": [
    "![title](https://storage.googleapis.com/kaggle-media/competitions/home-credit/home_credit.png)"
   ]
  },
  {
   "cell_type": "markdown",
   "metadata": {},
   "source": [
    "# PARTE 1:\n",
    "## Análise estatística para as variaveis da base de dados: Appl_train_set\n",
    "\n",
    "Como demonstrado na imagem acima, sabemos que o principal arquivo a ser analisado será o Application_train, pois neles se encontram as principais variaveis de analise e a variavel resposta, sendo as outras bases para o enriquecimento do treino"
   ]
  },
  {
   "cell_type": "code",
   "execution_count": null,
   "metadata": {},
   "outputs": [],
   "source": [
    "appl_test_set.Name = \"Base de Teste\"\n",
    "appl_test_set.head(5)\n",
    "\n",
    "appl_train_set.Name = \"Base de Treino\"\n",
    "appl_train_set.head(5)"
   ]
  },
  {
   "cell_type": "code",
   "execution_count": null,
   "metadata": {},
   "outputs": [],
   "source": [
    "print('O dataframe: {} contêm {} linhas e {} colunas.'.format( appl_train_set.Name , str(appl_train_set.shape[0]), appl_train_set.shape[1]))\n",
    "\n",
    "porc = appl_train_set.shape[0]/(appl_train_set.shape[0] + appl_test_set.shape[0])\n",
    "print('\\nSendo a base de treino equivalente a {}% do total de amostras'.format( str( round(porc*100, 2) ) ))"
   ]
  },
  {
   "cell_type": "code",
   "execution_count": null,
   "metadata": {},
   "outputs": [],
   "source": [
    "pd.options.display.max_columns = 150\n",
    "pd.options.display.max_rows = 150"
   ]
  }
 ],
 "metadata": {
  "kernelspec": {
   "display_name": "Python 3",
   "language": "python",
   "name": "python3"
  },
  "language_info": {
   "codemirror_mode": {
    "name": "ipython",
    "version": 3
   },
   "file_extension": ".py",
   "mimetype": "text/x-python",
   "name": "python",
   "nbconvert_exporter": "python",
   "pygments_lexer": "ipython3",
   "version": "3.7.4"
  }
 },
 "nbformat": 4,
 "nbformat_minor": 4
}