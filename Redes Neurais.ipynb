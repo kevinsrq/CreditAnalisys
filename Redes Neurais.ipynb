{
 "cells": [
  {
   "cell_type": "markdown",
   "metadata": {},
   "source": [
    "<div align=\"center\">\n",
    "  <img width=\"460\" height=\"300\" src=\"https://ml4a.github.io/images/figures/mnist-input.png\">\n",
    "</div>\n",
    "\n",
    "<div align=\"center\">\n",
    "  <img width=\"460\" height=\"300\" src=\"https://achintavarna.files.wordpress.com/2017/11/mnist_2layers.png?w=634\">\n",
    "</div>"
   ]
  }
 ],
 "metadata": {
  "kernelspec": {
   "display_name": "Python 3",
   "language": "python",
   "name": "python3"
  },
  "language_info": {
   "codemirror_mode": {
    "name": "ipython",
    "version": 3
   },
   "file_extension": ".py",
   "mimetype": "text/x-python",
   "name": "python",
   "nbconvert_exporter": "python",
   "pygments_lexer": "ipython3",
   "version": "3.8.3"
  }
 },
 "nbformat": 4,
 "nbformat_minor": 4
}
